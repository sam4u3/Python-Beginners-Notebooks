{
 "cells": [
  {
   "cell_type": "markdown",
   "metadata": {},
   "source": [
    " ############### BASIC : DATA AND OPERATION ###################\n",
    "================================================================"
   ]
  },
  {
   "cell_type": "markdown",
   "metadata": {},
   "source": [
    "## --------------------------------------- VARIABLES -------------------------------------------------"
   ]
  },
  {
   "cell_type": "markdown",
   "metadata": {},
   "source": [
    "#### A variable is a memory location where a programmer can store a value\n",
    "\n",
    "#### Rules for naming the variable\n",
    "    - Must begin with a letter (a - z, A - B) or underscore (_)\n",
    "    - Other characters can be letters, numbers or _\n",
    "    - Case Sensitive\n",
    "    - Can be any (reasonable) length\n",
    "    - There are some reserved words which you cannot use as a variable name because Python uses them for other things.\n",
    "\n",
    "#### Best Practices      \n",
    "    - Choose meaningful name instead of short name. roll_no is better than rn.\n",
    "    - Maintain the length of a variable name. Roll_no_of_a-student is too long?\n",
    "    - Be consistent; roll_no or RollNo\n",
    "    - Begin a variable name with an underscore(_) character for a special case.\n",
    "\n",
    "#### Declaring Variable\n",
    "\n",
    "variable_name = expr\n"
   ]
  },
  {
   "cell_type": "code",
   "execution_count": 3,
   "metadata": {},
   "outputs": [
    {
     "name": "stdout",
     "output_type": "stream",
     "text": [
      "Computer 10 1000.23\n"
     ]
    }
   ],
   "source": [
    "Item_name = \"Computer\"\n",
    "Item_qty = 10 \n",
    "Item_value = 1000.23\n",
    "\n",
    "print(Item_name,Item_qty,Item_value)"
   ]
  },
  {
   "cell_type": "markdown",
   "metadata": {},
   "source": [
    "## --------------------------------------- BASIC DATA TYPES -------------------------------------------------"
   ]
  },
  {
   "cell_type": "markdown",
   "metadata": {},
   "source": [
    "### 1) NUMBERS"
   ]
  },
  {
   "cell_type": "code",
   "execution_count": 8,
   "metadata": {},
   "outputs": [
    {
     "name": "stdout",
     "output_type": "stream",
     "text": [
      "type of int_1 is :  <class 'int'>\n",
      "type of int_2 is :  <class 'int'>\n"
     ]
    }
   ],
   "source": [
    "#Integers numbers\n",
    "\n",
    "int_1=4\n",
    "print(\"type of int_1 is : \",type(int_1))\n",
    "\n",
    "int_2=4294967297342342\n",
    "print(\"type of int_2 is : \",type(int_2))\n"
   ]
  },
  {
   "cell_type": "code",
   "execution_count": 5,
   "metadata": {
    "scrolled": true
   },
   "outputs": [
    {
     "name": "stdout",
     "output_type": "stream",
     "text": [
      "type of float_1 is :  <class 'float'>\n"
     ]
    }
   ],
   "source": [
    "# float numbers\n",
    "\n",
    "float_1=3.76\n",
    "print(\"type of float_1 is : \",type(float_1))\n",
    "\n",
    "\n"
   ]
  },
  {
   "cell_type": "code",
   "execution_count": 34,
   "metadata": {},
   "outputs": [
    {
     "name": "stdout",
     "output_type": "stream",
     "text": [
      "type of cmp_1 is :  <class 'complex'>\n",
      "type of cmp_2 is :  <class 'complex'> \n",
      "Number is : (4+8j)\n"
     ]
    }
   ],
   "source": [
    "#Complex Numbers\n",
    "\n",
    "cmp_1=2+4j\n",
    "print(\"type of cmp_1 is : \",type(cmp_1))\n",
    "\n",
    "cmp_2=complex(4,8)\n",
    "print(\"type of cmp_2 is : \",type(cmp_2),\"\\nNumber is :\",cmp_2)"
   ]
  },
  {
   "cell_type": "markdown",
   "metadata": {},
   "source": [
    "## 2) STRING"
   ]
  },
  {
   "cell_type": "code",
   "execution_count": 35,
   "metadata": {},
   "outputs": [
    {
     "name": "stdout",
     "output_type": "stream",
     "text": [
      "Type of str_1 is :  <class 'str'>\n",
      "Type of str_2 is :  <class 'str'>\n"
     ]
    }
   ],
   "source": [
    "# String \n",
    "\n",
    "str_1='This is string example'\n",
    "print('Type of str_1 is : ',type(str_1))\n",
    "\n",
    "\n",
    "str_2=\"This is string example\"\n",
    "print('Type of str_2 is : ',type(str_1))"
   ]
  },
  {
   "cell_type": "code",
   "execution_count": 9,
   "metadata": {},
   "outputs": [
    {
     "name": "stdout",
     "output_type": "stream",
     "text": [
      "Hi i'm a boy\n",
      "hi my name is \"Sayar mendis\"\n"
     ]
    }
   ],
   "source": [
    "# escape chars\n",
    "str_3='Hi i\\'m a boy'\n",
    "print(str_3)\n",
    "\n",
    "str_4=\"hi my name is \\\"Sayar mendis\\\"\"\n",
    "print(str_4)\n"
   ]
  },
  {
   "cell_type": "code",
   "execution_count": 40,
   "metadata": {},
   "outputs": [
    {
     "name": "stdout",
     "output_type": "stream",
     "text": [
      "D:\\/SayarShare\\\\Python Learning\\\\SAYAR_TUTORIALS\n"
     ]
    }
   ],
   "source": [
    "#raw string \n",
    "\n",
    "str_5=r\"D:\\\\SayarShare\\\\Python Learning\\\\SAYAR_TUTORIALS\"\n",
    "print(str_3)"
   ]
  },
  {
   "cell_type": "code",
   "execution_count": 41,
   "metadata": {},
   "outputs": [
    {
     "name": "stdout",
     "output_type": "stream",
     "text": [
      "\n",
      "********************************\n",
      "This is triple quotation string\n",
      "you can use for multiline comment\n",
      "*********************************\n",
      "\n"
     ]
    }
   ],
   "source": [
    "# Tripple quotation string\n",
    "\n",
    "str_6='''\n",
    "********************************\n",
    "This is triple quotation string\n",
    "you can use for multiline comment\n",
    "*********************************\n",
    "'''\n",
    "print(str_6)"
   ]
  },
  {
   "cell_type": "code",
   "execution_count": 10,
   "metadata": {},
   "outputs": [
    {
     "name": "stdout",
     "output_type": "stream",
     "text": [
      "Sayar & Pasku\n",
      "<class 'str'>\n"
     ]
    }
   ],
   "source": [
    "#Unicode string\n",
    "\n",
    "str_7 = 'Sayar & Pasku'\n",
    "print(str_7)\n",
    "print(type(str_7))"
   ]
  },
  {
   "cell_type": "code",
   "execution_count": 11,
   "metadata": {},
   "outputs": [
    {
     "ename": "TypeError",
     "evalue": "must be str, not int",
     "output_type": "error",
     "traceback": [
      "\u001b[1;31m---------------------------------------------------------------------------\u001b[0m",
      "\u001b[1;31mTypeError\u001b[0m                                 Traceback (most recent call last)",
      "\u001b[1;32m<ipython-input-11-ef549515af3a>\u001b[0m in \u001b[0;36m<module>\u001b[1;34m\u001b[0m\n\u001b[0;32m      3\u001b[0m \u001b[0madditional_var\u001b[0m\u001b[1;33m=\u001b[0m\u001b[1;36m3423\u001b[0m\u001b[1;33m\u001b[0m\u001b[1;33m\u001b[0m\u001b[0m\n\u001b[0;32m      4\u001b[0m \u001b[1;33m\u001b[0m\u001b[0m\n\u001b[1;32m----> 5\u001b[1;33m \u001b[0mFR\u001b[0m\u001b[1;33m=\u001b[0m\u001b[1;34m\"this number is \"\u001b[0m\u001b[1;33m+\u001b[0m\u001b[0madditional_var\u001b[0m\u001b[1;33m+\u001b[0m\u001b[1;34m\"rs\"\u001b[0m\u001b[1;33m\u001b[0m\u001b[1;33m\u001b[0m\u001b[0m\n\u001b[0m\u001b[0;32m      6\u001b[0m \u001b[1;33m\u001b[0m\u001b[0m\n\u001b[0;32m      7\u001b[0m \u001b[0mfr_str_1\u001b[0m\u001b[1;33m=\u001b[0m\u001b[1;34mf\"Thhis is additional variable :{additional_var}\"\u001b[0m\u001b[1;33m\u001b[0m\u001b[1;33m\u001b[0m\u001b[0m\n",
      "\u001b[1;31mTypeError\u001b[0m: must be str, not int"
     ]
    }
   ],
   "source": [
    "# Formatted string\n",
    "\n",
    "additional_var=3423\n",
    "\n",
    "FR=\"this number is \"+additional_var+\"rs\"\n",
    "\n",
    "fr_str_1=f\"Thhis is additional variable :{additional_var}\"\n",
    "print(fr_str_1)\n",
    "\n",
    "fr_str_2=\"Thhis is additional variable :{}\".format(additional_var)\n",
    "print(fr_str_2)\n",
    "\n"
   ]
  },
  {
   "cell_type": "markdown",
   "metadata": {},
   "source": [
    "## 3) Booleans"
   ]
  },
  {
   "cell_type": "code",
   "execution_count": 46,
   "metadata": {},
   "outputs": [
    {
     "name": "stdout",
     "output_type": "stream",
     "text": [
      "Type of bool_1 is :  <class 'bool'>\n"
     ]
    }
   ],
   "source": [
    "# Declare boolean\n",
    "bool_1=True\n",
    "\n",
    "print('Type of bool_1 is : ',type(bool_1))"
   ]
  },
  {
   "cell_type": "code",
   "execution_count": 54,
   "metadata": {},
   "outputs": [
    {
     "name": "stdout",
     "output_type": "stream",
     "text": [
      "Value of 0 in boolean is : False\n",
      "Value of  True  in boolean is : True\n",
      "Value of  True  in boolean is : True\n",
      "Value of  True  in boolean is : True\n"
     ]
    }
   ],
   "source": [
    "# Int convert boolean\n",
    "\n",
    "bool_2=bool(0)\n",
    "\n",
    "print(\"Value of 0 in boolean is :\",bool_2)\n",
    "\n",
    "\n",
    "# Bollean value of any int other than zero (0) is true\n",
    "bool_3=bool(1)\n",
    "bool_4=bool(4)\n",
    "bool_5=bool(-3)\n",
    "print(\"Value of \",bool_3,\" in boolean is :\",bool_3)\n",
    "print(\"Value of \",bool_4,\" in boolean is :\",bool_4)\n",
    "print(\"Value of \",bool_5,\" in boolean is :\",bool_5)"
   ]
  },
  {
   "cell_type": "code",
   "execution_count": 1,
   "metadata": {},
   "outputs": [],
   "source": [
    "#Pratice Here\n",
    "\n",
    "\n",
    "\n",
    "\n",
    "\n",
    "\n",
    "\n",
    "\n",
    "\n",
    "\n"
   ]
  },
  {
   "cell_type": "markdown",
   "metadata": {},
   "source": [
    "## --------------------------------------- DATA OPRATORS AND Built-Ins ------------------------------------------------"
   ]
  },
  {
   "cell_type": "markdown",
   "metadata": {},
   "source": [
    "## 1. Operators\n",
    "\n",
    "- Arithmetic operators\n",
    "- Assignment operators\n",
    "- Comparison operators\n",
    "- Logical operators\n",
    "- Identity operators\n",
    "- Membership operators\n",
    "- Bitwise operators"
   ]
  },
  {
   "cell_type": "markdown",
   "metadata": {},
   "source": [
    "### Arithmetic Operators"
   ]
  },
  {
   "cell_type": "markdown",
   "metadata": {},
   "source": [
    "\n",
    "\n",
    "| Operator  | Name  | Example |\n",
    "| :---------:| :---- :         | :-------- :|\n",
    "|    +     | Addition     |  x+y    |\n",
    "|    -     | Subtraction  |  x-y    |\n",
    "|    *     | Multiplication |  x*y    |\n",
    "|    /     | Division |  x/y    |\n",
    "|    %     | Modulus |  x%y    |\n",
    "|    **    | Exponentiation |  x\\**y    |\n",
    "|    //     | Floor dicvision |  x//y    |\n"
   ]
  },
  {
   "cell_type": "code",
   "execution_count": 65,
   "metadata": {},
   "outputs": [
    {
     "name": "stdout",
     "output_type": "stream",
     "text": [
      "Addition is :  17\n",
      "Subtraction is :  7\n",
      "Multiplication is :  60\n",
      "Division is :  2.4\n",
      "Reminder is  2\n",
      "Result of 12^5 is :  248832\n",
      "Rounded Division is  2\n"
     ]
    }
   ],
   "source": [
    "x=12\n",
    "y=5\n",
    "\n",
    "\n",
    "# Addition\n",
    "print(\"Addition is : \",x+y)\n",
    "\n",
    "# Subtraction\n",
    "print(\"Subtraction is : \",x-y)\n",
    "\n",
    "# Multiplication\n",
    "print(\"Multiplication is : \",x*y)\n",
    "\n",
    "# Division\n",
    "print(\"Division is : \",x/y)\n",
    "\n",
    "# Modulus\n",
    "print(\"Reminder is \",x%y)\n",
    "\n",
    "# Exponentiation\n",
    "print(f\"Result of {x}^{y} is : \",x**y)\n",
    "\n",
    "# Floor division\n",
    "print(\"Rounded Division is \",x//y)"
   ]
  },
  {
   "cell_type": "markdown",
   "metadata": {},
   "source": [
    "### Comparison Operators"
   ]
  },
  {
   "cell_type": "markdown",
   "metadata": {},
   "source": [
    "\n",
    "| Operator  | Name  | Example | Result\n",
    "| :---------:| :---- : | :-------- :| :----: |\n",
    "|    ==     | Equal     |  x==y    | True if x is exactly equal to y|\n",
    "|    !=     | Not equal  |  x!=y    | True if x is exactly not equal to y |\n",
    "|    >     | Greater than |  x>y    | True if x (left-hand argument) is greater than y (right-hand argument)|\n",
    "|    <     | Less than |  x<y    | True if x (left-hand argument) is less than y (right-hand argument)|\n",
    "|    >=     | Greater than or equal to |  x>=y    | True if x (left-hand argument) is greater than or equal to y (left-hand argument)|\n",
    "|   <=    | Less than or equal to |  x<=y    | True if x (left-hand argument) is less than or equal to y (right-hand argument)|\n"
   ]
  },
  {
   "cell_type": "code",
   "execution_count": 6,
   "metadata": {},
   "outputs": [
    {
     "name": "stdout",
     "output_type": "stream",
     "text": [
      "10 Equals 4 is : False\n",
      "10 Not equals 4 is : True\n",
      "10 is Greater than 4 is : True\n",
      "10 is Less than 4 is : False\n",
      "10 Greater than or equal to 4 is : True\n",
      "10 Less than or equal to 4 is : False\n"
     ]
    }
   ],
   "source": [
    "\n",
    "x=10\n",
    "y=4\n",
    "\n",
    "print(f\"{x} Equals {y} is :\",x==y)\n",
    "print(f\"{x} Not equals {y} is :\",x!=y)\n",
    "print(f\"{x} is Greater than {y} is :\",x>y)\n",
    "print(f\"{x} is Less than {y} is :\",x<y)\n",
    "print(f\"{x} Greater than or equal to {y} is :\",x>=y)\n",
    "print(f\"{x} Less than or equal to {y} is :\",x<=y)"
   ]
  },
  {
   "cell_type": "markdown",
   "metadata": {},
   "source": [
    "### Logical Operators"
   ]
  },
  {
   "cell_type": "markdown",
   "metadata": {},
   "source": [
    "| Operator  | Example  | Result |\n",
    "| :---------:| :---- :         | :-------- :|\n",
    "|    and     | x and y     |  is True if both x and y are true   |\n",
    "|    or    | x or y  |  is True if either x or y is true   |\n",
    "|    not    | not x |  If a condition is true then Logical not operator will make false  |\n"
   ]
  },
  {
   "cell_type": "code",
   "execution_count": 12,
   "metadata": {},
   "outputs": [
    {
     "name": "stdout",
     "output_type": "stream",
     "text": [
      "X and Y is both greater than 10 is : False\n",
      "X and Y is both less than 11 is : True\n",
      "One of X or Y is less than 8 is : True\n",
      "One of X or Y is less than 5 is : False\n",
      "Both are greater than 12 is : True\n"
     ]
    }
   ],
   "source": [
    "\n",
    "x=10\n",
    "y= 7\n",
    "\n",
    "print(\"X and Y is both greater than 10 is :\",(x>10 and y>10))\n",
    "print(\"X and Y is both less than 11 is :\",(x<11 and y<11))\n",
    "\n",
    "print(\"One of X or Y is less than 8 is :\",(x<8 or y<8))\n",
    "print(\"One of X or Y is less than 5 is :\",(x<5 or y<5))\n",
    "\n",
    "print(\"Both are greater than 12 is :\",not (x>12 and y>12))\n"
   ]
  },
  {
   "cell_type": "markdown",
   "metadata": {},
   "source": [
    "### Assignment Operators"
   ]
  },
  {
   "cell_type": "markdown",
   "metadata": {},
   "source": [
    "| Operator  | Shorthand  | Expression | Description\n",
    "| :---------:| :---- : | :-------- :| :----: |\n",
    "|    +=     | x+=y     |  x=x+y    | Adds 2 numbers and assigns the result to left operand|\n",
    "|    -=     | x-=y  | x=x-y    | Subtracts 2 numbers and assigns the result to left operand |\n",
    "|    *=     | x*= y | x = x*y  | Multiplies 2 numbers and assigns the result to left operand |\n",
    "|    /=    | x/= y |  x = x/y  | Divides 2 numbers and assigns the result to left operand)|\n",
    "|    %=     | x%= y |  x = x%y    | Computes the modulus of 2 numbers and assigns the result to left operand |\n",
    "|  \\**=    | x\\**=y |  x = x\\**y  | Performs exponential (power) calculation on operators and assign value to the equivalent to left operand|\n",
    "|  //=    | x//=y |  x = x//y  | Performs floor division on operators and assign value to the left operand|\n"
   ]
  },
  {
   "cell_type": "code",
   "execution_count": 16,
   "metadata": {},
   "outputs": [
    {
     "name": "stdout",
     "output_type": "stream",
     "text": [
      "Shorthand of x=x+y is : 19\n",
      "Shorthand of x=x-y is : 12\n",
      "Shorthand of x=x*y is : 84\n",
      "Shorthand of x=x/y is : 12.0\n",
      "Shorthand of x=x%y is : 5.0\n",
      "Shorthand of x=x**y is : 78125.0\n",
      "Shorthand of x=x//y is : 11160.0\n"
     ]
    }
   ],
   "source": [
    "\n",
    "\n",
    "x=12\n",
    "y=7\n",
    "\n",
    "x+=y\n",
    "print(\"Shorthand of x=x+y is :\",x) \n",
    "\n",
    "x-=y\n",
    "print(\"Shorthand of x=x-y is :\",x) \n",
    "\n",
    "x*=y\n",
    "print(\"Shorthand of x=x*y is :\",x) \n",
    "\n",
    "x/=y\n",
    "print(\"Shorthand of x=x/y is :\",x) \n",
    "\n",
    "x%=y\n",
    "print(\"Shorthand of x=x%y is :\",x) \n",
    "\n",
    "x**=y\n",
    "print(\"Shorthand of x=x**y is :\",x) \n",
    "\n",
    "x//=y\n",
    "print(\"Shorthand of x=x//y is :\",x) \n"
   ]
  },
  {
   "cell_type": "markdown",
   "metadata": {},
   "source": [
    "### Bitwise Operators"
   ]
  },
  {
   "cell_type": "markdown",
   "metadata": {},
   "source": [
    "\n",
    "\n",
    "| Operator  | Shorthand  | Expression | Description |\n",
    "| :---------:| :---- :    | :-------- :| :------|\n",
    "|    &     | And     |  x&y    | Bits that are set in both x and y are set |\n",
    "|    \\|     | Or  |  x\\|y    | Bits that are set in either x or y are set|\n",
    "|    ^     | Xor |  x^y    | Bits that are set in x or y but not both are set |\n",
    "|    ~ | Not |  ~x    | Bits that are set in x are not set, and vice versa |\n",
    "|    <<    | Shift left |  x<<y    | Shift the bits of x, y steps to the left |\n",
    "|    >>    | Shift right |  x>>y    | Shift the bits of x, y steps to the right |\n"
   ]
  },
  {
   "cell_type": "code",
   "execution_count": 24,
   "metadata": {},
   "outputs": [
    {
     "name": "stdout",
     "output_type": "stream",
     "text": [
      "x = 0b10110 and y = 0b11001\n",
      "Result of AND is :16    0b10000\n",
      "Result of OR is :31    0b11111\n",
      "Result of XOR is :15    0b1111\n",
      "Result of NOT is :-23    -0b10111\n",
      "Result of LEFT SHIFT is :88    0b1011000\n",
      "Result of RIGHT SHIFT is :5    0b101\n"
     ]
    }
   ],
   "source": [
    "\n",
    "\n",
    "x= 22\n",
    "y=25\n",
    "\n",
    "print(f\"x = {bin(x)} and y = {bin(y)}\")\n",
    "\n",
    "c=x&y\n",
    "print(f\"Result of AND is :{c}    {bin(c)}\")\n",
    "\n",
    "c=x|y\n",
    "print(f\"Result of OR is :{c}    {bin(c)}\")\n",
    "\n",
    "c=x^y\n",
    "print(f\"Result of XOR is :{c}    {bin(c)}\")\n",
    "\n",
    "c=~x\n",
    "print(f\"Result of NOT is :{c}    {bin(c)}\")\n",
    "\n",
    "c=x<<2\n",
    "print(f\"Result of LEFT SHIFT is :{c}    {bin(c)}\")\n",
    "\n",
    "c=x>>2\n",
    "print(f\"Result of RIGHT SHIFT is :{c}    {bin(c)}\")\n"
   ]
  },
  {
   "cell_type": "markdown",
   "metadata": {},
   "source": [
    "### Identity Operators"
   ]
  },
  {
   "cell_type": "markdown",
   "metadata": {},
   "source": [
    "| Operator  | Example  | Description |\n",
    "| :---------:| :---- :         | :-------- :|\n",
    "|    is     | x is True     |  True if the operands are identical (refer to the same object)  |\n",
    "|    is not    | x is not y  |  True if the operands are not identical (do not refer to the same object)  |\n"
   ]
  },
  {
   "cell_type": "code",
   "execution_count": 30,
   "metadata": {},
   "outputs": [
    {
     "name": "stdout",
     "output_type": "stream",
     "text": [
      "x1 is y1 : True\n",
      "x1 is not y1 : False\n"
     ]
    }
   ],
   "source": [
    "\n",
    "x1=\"Hello\"\n",
    "y1=\"Hello\"\n",
    "\n",
    "print(f\"x1 is y1 :\",x1 is y1)\n",
    "\n",
    "print(f\"x1 is not y1 :\",x1 is not y1)\n"
   ]
  },
  {
   "cell_type": "markdown",
   "metadata": {},
   "source": [
    "### Membership Operators"
   ]
  },
  {
   "cell_type": "markdown",
   "metadata": {},
   "source": [
    "| Operator  | Example  | Description |\n",
    "| :---------:| :---- :         | :-------- :|\n",
    "|    in     | 5 in x     | True if value/variable is found in the sequence   |\n",
    "|    not in    | 5 not in x |True if value/variable is not found in the sequence  |\n"
   ]
  },
  {
   "cell_type": "code",
   "execution_count": 35,
   "metadata": {},
   "outputs": [
    {
     "name": "stdout",
     "output_type": "stream",
     "text": [
      "S is present in Hello world is :  False\n",
      "S is not present in Hello world is :  True\n",
      "76 is present in [0, 3, 5, 76, 8, 9, 4] is : True\n",
      "76 is not present in [0, 3, 5, 76, 8, 9, 4] is : False\n"
     ]
    }
   ],
   "source": [
    "x = \"Hello world\"\n",
    "y= [0,3,5,76,8,9,4]\n",
    "\n",
    "\n",
    "print(f\"S is present in {x} is : \",\"S\" in x)\n",
    "print(f\"S is not present in {x} is : \",\"S\" not in x)\n",
    "\n",
    "print(f\"76 is present in {y} is :\",76 in y)\n",
    "print(f\"76 is not present in {y} is :\",76 not in y)"
   ]
  },
  {
   "cell_type": "code",
   "execution_count": null,
   "metadata": {},
   "outputs": [],
   "source": []
  }
 ],
 "metadata": {
  "kernelspec": {
   "display_name": "Python 3",
   "language": "python",
   "name": "python3"
  },
  "language_info": {
   "codemirror_mode": {
    "name": "ipython",
    "version": 3
   },
   "file_extension": ".py",
   "mimetype": "text/x-python",
   "name": "python",
   "nbconvert_exporter": "python",
   "pygments_lexer": "ipython3",
   "version": "3.6.8"
  }
 },
 "nbformat": 4,
 "nbformat_minor": 2
}
